{
 "cells": [
  {
   "cell_type": "code",
   "execution_count": 1,
   "id": "9e78a867",
   "metadata": {},
   "outputs": [],
   "source": [
    "import pandas as pd\n",
    "import numpy as np\n",
    "import requests\n",
    "import gmaps\n",
    "import matplotlib.pyplot as plt\n",
    "from config import gKey\n",
    "\n",
    "gmaps.configure(api_key = gKey)\n",
    "\n",
    "apiURL = \"https://maps.googleapis.com/maps/api/place/nearbysearch/json\"\n",
    "\n",
    "cityWeatherPath = \"../WeatherPy/output/cities.csv\"\n",
    "\n",
    "cityWeather_df = pd.read_csv(cityWeatherPath)\n",
    "\n"
   ]
  },
  {
   "cell_type": "code",
   "execution_count": 2,
   "id": "3ea44ec4",
   "metadata": {},
   "outputs": [
    {
     "data": {
      "application/vnd.jupyter.widget-view+json": {
       "model_id": "bb37e7e9b7354fafbaab19fb2c8003e2",
       "version_major": 2,
       "version_minor": 0
      },
      "text/plain": [
       "Figure(layout=FigureLayout(height='420px'))"
      ]
     },
     "metadata": {},
     "output_type": "display_data"
    }
   ],
   "source": [
    "#humidity heatmap\n",
    "\n",
    "humidity = cityWeather_df[\"Humidity:\"]\n",
    "coordinates = cityWeather_df[[\"Latitude:\", \"Longitude:\"]]\n",
    "\n",
    "gMap = gmaps.figure()\n",
    "heatLayer = gmaps.heatmap_layer(coordinates, weights = humidity, dissipating = False, max_intensity = 300, point_radius = 5)\n",
    "\n",
    "gMap.add_layer(heatLayer)\n",
    "\n",
    "gMap"
   ]
  },
  {
   "cell_type": "code",
   "execution_count": 3,
   "id": "877154ec",
   "metadata": {},
   "outputs": [
    {
     "data": {
      "text/html": [
       "<div>\n",
       "<style scoped>\n",
       "    .dataframe tbody tr th:only-of-type {\n",
       "        vertical-align: middle;\n",
       "    }\n",
       "\n",
       "    .dataframe tbody tr th {\n",
       "        vertical-align: top;\n",
       "    }\n",
       "\n",
       "    .dataframe thead th {\n",
       "        text-align: right;\n",
       "    }\n",
       "</style>\n",
       "<table border=\"1\" class=\"dataframe\">\n",
       "  <thead>\n",
       "    <tr style=\"text-align: right;\">\n",
       "      <th></th>\n",
       "      <th>Unnamed: 0</th>\n",
       "      <th>City:</th>\n",
       "      <th>Latitude:</th>\n",
       "      <th>Longitude:</th>\n",
       "      <th>Max Temp:</th>\n",
       "      <th>Humidity:</th>\n",
       "      <th>Cloud Coverage:</th>\n",
       "      <th>Wind:</th>\n",
       "      <th>Country:</th>\n",
       "      <th>Date:</th>\n",
       "    </tr>\n",
       "  </thead>\n",
       "  <tbody>\n",
       "    <tr>\n",
       "      <th>132</th>\n",
       "      <td>132</td>\n",
       "      <td>alta floresta</td>\n",
       "      <td>-9.8756</td>\n",
       "      <td>-56.0861</td>\n",
       "      <td>72.86</td>\n",
       "      <td>41</td>\n",
       "      <td>27</td>\n",
       "      <td>1.25</td>\n",
       "      <td>BR</td>\n",
       "      <td>1628393674</td>\n",
       "    </tr>\n",
       "    <tr>\n",
       "      <th>181</th>\n",
       "      <td>181</td>\n",
       "      <td>abaza</td>\n",
       "      <td>52.6550</td>\n",
       "      <td>90.0928</td>\n",
       "      <td>74.08</td>\n",
       "      <td>51</td>\n",
       "      <td>21</td>\n",
       "      <td>2.84</td>\n",
       "      <td>RU</td>\n",
       "      <td>1628393802</td>\n",
       "    </tr>\n",
       "    <tr>\n",
       "      <th>283</th>\n",
       "      <td>283</td>\n",
       "      <td>san carlos</td>\n",
       "      <td>9.6612</td>\n",
       "      <td>-68.5827</td>\n",
       "      <td>73.60</td>\n",
       "      <td>86</td>\n",
       "      <td>26</td>\n",
       "      <td>2.39</td>\n",
       "      <td>VE</td>\n",
       "      <td>1628393838</td>\n",
       "    </tr>\n",
       "    <tr>\n",
       "      <th>337</th>\n",
       "      <td>337</td>\n",
       "      <td>oeiras do para</td>\n",
       "      <td>-2.0031</td>\n",
       "      <td>-49.8544</td>\n",
       "      <td>74.26</td>\n",
       "      <td>89</td>\n",
       "      <td>21</td>\n",
       "      <td>3.09</td>\n",
       "      <td>BR</td>\n",
       "      <td>1628393856</td>\n",
       "    </tr>\n",
       "  </tbody>\n",
       "</table>\n",
       "</div>"
      ],
      "text/plain": [
       "     Unnamed: 0           City:  Latitude:  Longitude:  Max Temp:  Humidity:  \\\n",
       "132         132   alta floresta    -9.8756    -56.0861      72.86         41   \n",
       "181         181           abaza    52.6550     90.0928      74.08         51   \n",
       "283         283      san carlos     9.6612    -68.5827      73.60         86   \n",
       "337         337  oeiras do para    -2.0031    -49.8544      74.26         89   \n",
       "\n",
       "     Cloud Coverage:  Wind: Country:       Date:  \n",
       "132               27   1.25       BR  1628393674  \n",
       "181               21   2.84       RU  1628393802  \n",
       "283               26   2.39       VE  1628393838  \n",
       "337               21   3.09       BR  1628393856  "
      ]
     },
     "execution_count": 3,
     "metadata": {},
     "output_type": "execute_result"
    }
   ],
   "source": [
    "#Narrow down cities\n",
    "\n",
    "narrowedCityWeather_df = cityWeather_df.loc[(cityWeather_df[\"Max Temp:\"].between(65, 75, inclusive = True) )\n",
    "                                            & (cityWeather_df[\"Cloud Coverage:\"].between(20, 30, inclusive = False))\n",
    "                                            & (cityWeather_df[\"Wind:\"] < 5)\n",
    "                                           ].dropna()\n",
    "\n",
    "narrowedCityWeather_df"
   ]
  },
  {
   "cell_type": "code",
   "execution_count": 4,
   "id": "415b75fa",
   "metadata": {},
   "outputs": [
    {
     "name": "stderr",
     "output_type": "stream",
     "text": [
      "<ipython-input-4-ca5fe25df4d1>:5: SettingWithCopyWarning: \n",
      "A value is trying to be set on a copy of a slice from a DataFrame.\n",
      "Try using .loc[row_indexer,col_indexer] = value instead\n",
      "\n",
      "See the caveats in the documentation: https://pandas.pydata.org/pandas-docs/stable/user_guide/indexing.html#returning-a-view-versus-a-copy\n",
      "  hotel_df[\"Hotel Name\"] = \"initialize\"\n"
     ]
    },
    {
     "name": "stdout",
     "output_type": "stream",
     "text": [
      "fetching lodging data\n"
     ]
    },
    {
     "name": "stderr",
     "output_type": "stream",
     "text": [
      "C:\\Users\\Kristian\\anaconda3\\lib\\site-packages\\pandas\\core\\indexing.py:1720: SettingWithCopyWarning: \n",
      "A value is trying to be set on a copy of a slice from a DataFrame.\n",
      "Try using .loc[row_indexer,col_indexer] = value instead\n",
      "\n",
      "See the caveats in the documentation: https://pandas.pydata.org/pandas-docs/stable/user_guide/indexing.html#returning-a-view-versus-a-copy\n",
      "  self._setitem_single_column(loc, value, pi)\n"
     ]
    },
    {
     "name": "stdout",
     "output_type": "stream",
     "text": [
      "fetching lodging data\n",
      "fetching lodging data\n",
      "fetching lodging data\n"
     ]
    },
    {
     "data": {
      "text/html": [
       "<div>\n",
       "<style scoped>\n",
       "    .dataframe tbody tr th:only-of-type {\n",
       "        vertical-align: middle;\n",
       "    }\n",
       "\n",
       "    .dataframe tbody tr th {\n",
       "        vertical-align: top;\n",
       "    }\n",
       "\n",
       "    .dataframe thead th {\n",
       "        text-align: right;\n",
       "    }\n",
       "</style>\n",
       "<table border=\"1\" class=\"dataframe\">\n",
       "  <thead>\n",
       "    <tr style=\"text-align: right;\">\n",
       "      <th></th>\n",
       "      <th>City:</th>\n",
       "      <th>Country:</th>\n",
       "      <th>Latitude:</th>\n",
       "      <th>Longitude:</th>\n",
       "      <th>Hotel Name</th>\n",
       "    </tr>\n",
       "  </thead>\n",
       "  <tbody>\n",
       "    <tr>\n",
       "      <th>132</th>\n",
       "      <td>alta floresta</td>\n",
       "      <td>BR</td>\n",
       "      <td>-9.8756</td>\n",
       "      <td>-56.0861</td>\n",
       "      <td>Floresta Amazonica Hotel</td>\n",
       "    </tr>\n",
       "    <tr>\n",
       "      <th>181</th>\n",
       "      <td>abaza</td>\n",
       "      <td>RU</td>\n",
       "      <td>52.6550</td>\n",
       "      <td>90.0928</td>\n",
       "      <td>Гостевой дом «Кедровый»</td>\n",
       "    </tr>\n",
       "    <tr>\n",
       "      <th>283</th>\n",
       "      <td>san carlos</td>\n",
       "      <td>VE</td>\n",
       "      <td>9.6612</td>\n",
       "      <td>-68.5827</td>\n",
       "      <td>Hotel Paternopoli</td>\n",
       "    </tr>\n",
       "    <tr>\n",
       "      <th>337</th>\n",
       "      <td>oeiras do para</td>\n",
       "      <td>BR</td>\n",
       "      <td>-2.0031</td>\n",
       "      <td>-49.8544</td>\n",
       "      <td>Araticu Soft Hotel</td>\n",
       "    </tr>\n",
       "  </tbody>\n",
       "</table>\n",
       "</div>"
      ],
      "text/plain": [
       "              City: Country:  Latitude:  Longitude:                Hotel Name\n",
       "132   alta floresta       BR    -9.8756    -56.0861  Floresta Amazonica Hotel\n",
       "181           abaza       RU    52.6550     90.0928   Гостевой дом «Кедровый»\n",
       "283      san carlos       VE     9.6612    -68.5827         Hotel Paternopoli\n",
       "337  oeiras do para       BR    -2.0031    -49.8544        Araticu Soft Hotel"
      ]
     },
     "execution_count": 4,
     "metadata": {},
     "output_type": "execute_result"
    }
   ],
   "source": [
    "#create hotel pins for map\n",
    "\n",
    "hotel_df = narrowedCityWeather_df[[\"City:\",\"Country:\", \"Latitude:\", \"Longitude:\"]]\n",
    "\n",
    "hotel_df[\"Hotel Name\"] = \"initialize\"\n",
    "\n",
    "params = {\"radius\" : 5000,\n",
    "          \"types\" : \"lodging\",\n",
    "          \"key\" : gKey\n",
    "         }\n",
    "\n",
    "for x, row in hotel_df.iterrows(): \n",
    "    latitude = row[\"Latitude:\"]\n",
    "    longitude = row[\"Longitude:\"]\n",
    "    params[\"location\"] = f'{latitude},{longitude}'\n",
    "    \n",
    "    print(\"fetching lodging data\")\n",
    "    response = requests.get(apiURL, params = params).json()\n",
    "    \n",
    "    try:\n",
    "        hotel_df.loc[x, \"Hotel Name\"] = response[\"results\"][0][\"name\"]\n",
    "    except:\n",
    "        print(\"broaden your horizons, no lodging available\")\n",
    "        continue\n",
    "\n",
    "hotel_df"
   ]
  },
  {
   "cell_type": "code",
   "execution_count": 9,
   "id": "7a8963a8",
   "metadata": {},
   "outputs": [
    {
     "data": {
      "application/vnd.jupyter.widget-view+json": {
       "model_id": "bb37e7e9b7354fafbaab19fb2c8003e2",
       "version_major": 2,
       "version_minor": 0
      },
      "text/plain": [
       "Figure(layout=FigureLayout(height='420px'))"
      ]
     },
     "metadata": {},
     "output_type": "display_data"
    }
   ],
   "source": [
    "#template formatting is not a fan of colons apparently\n",
    "hotel_df = hotel_df.rename(columns = {'City:': 'City', 'Country:' : 'Country'})\n",
    "\n",
    "info_box_template = \"\"\" <dl>\n",
    "                        <dt>Name</dt><dd>{Hotel Name}</dd>\n",
    "                        <dt>City</dt><dd>{City:}</dd>\n",
    "                        <dt>Country</dt><dd>{Country:}</dd>\n",
    "                        </dl>\n",
    "                    \"\"\"\n",
    "\n",
    "hotelData = [info_box_template.format(**row) for x, row in hotel_df.iterrows()]\n",
    "\n",
    "coordinates = hotel_df[[\"Latitude:\", \"Longitude:\"]]\n",
    "\n",
    "marker_layer = gmaps.marker_layer(coordinates, info_box_content = hotelData)\n",
    "\n",
    "gMap.add_layer(marker_layer)\n",
    "\n",
    "gMap"
   ]
  },
  {
   "cell_type": "code",
   "execution_count": null,
   "id": "50e86cc0",
   "metadata": {},
   "outputs": [],
   "source": []
  }
 ],
 "metadata": {
  "kernelspec": {
   "display_name": "Python 3",
   "language": "python",
   "name": "python3"
  },
  "language_info": {
   "codemirror_mode": {
    "name": "ipython",
    "version": 3
   },
   "file_extension": ".py",
   "mimetype": "text/x-python",
   "name": "python",
   "nbconvert_exporter": "python",
   "pygments_lexer": "ipython3",
   "version": "3.8.8"
  }
 },
 "nbformat": 4,
 "nbformat_minor": 5
}
