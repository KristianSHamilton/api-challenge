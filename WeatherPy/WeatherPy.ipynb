{
 "cells": [
  {
   "cell_type": "code",
   "execution_count": 4,
   "id": "9e78a867",
   "metadata": {},
   "outputs": [],
   "source": [
    "import pandas as pd\n",
    "import matplotlib.pyplot as plt\n",
    "import numpy as np\n",
    "from config import weatherKey\n",
    "from citipy import citipy\n",
    "\n",
    "\n",
    "outputPath = \"./output/cities.csv\"\n"
   ]
  },
  {
   "cell_type": "code",
   "execution_count": 12,
   "id": "0555271f",
   "metadata": {},
   "outputs": [
    {
     "data": {
      "text/plain": [
       "365"
      ]
     },
     "execution_count": 12,
     "metadata": {},
     "output_type": "execute_result"
    }
   ],
   "source": [
    "latitudeRange = (-90,90)\n",
    "longitudeRange = (-180,180)\n",
    "cityCoordinateList = []\n",
    "cityUsedList = []\n",
    "\n",
    "cityLatRand = np.random.uniform(low = -90, high = 90, size = 777)\n",
    "cityLongRand = np.random.uniform(low = -90, high = 90, size = 777)\n",
    "cityCoordinateList = zip(cityLatRand, cityLongRand)\n",
    "\n",
    "for x in cityCoordinateList:\n",
    "    city = citipy.nearest_city(x[0], x[1]).city_name\n",
    "    \n",
    "    if city not in cityUsedList:\n",
    "        cityUsedList.append(city)\n",
    "\n",
    "len(cityUsedList)"
   ]
  },
  {
   "cell_type": "code",
   "execution_count": null,
   "id": "49e1b49f",
   "metadata": {},
   "outputs": [],
   "source": []
  }
 ],
 "metadata": {
  "kernelspec": {
   "display_name": "Python 3",
   "language": "python",
   "name": "python3"
  },
  "language_info": {
   "codemirror_mode": {
    "name": "ipython",
    "version": 3
   },
   "file_extension": ".py",
   "mimetype": "text/x-python",
   "name": "python",
   "nbconvert_exporter": "python",
   "pygments_lexer": "ipython3",
   "version": "3.8.8"
  }
 },
 "nbformat": 4,
 "nbformat_minor": 5
}
